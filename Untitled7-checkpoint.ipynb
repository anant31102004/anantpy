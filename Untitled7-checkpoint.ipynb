{
 "cells": [
  {
   "cell_type": "markdown",
   "id": "747af7a4-02fd-426c-9152-33a880668726",
   "metadata": {},
   "source": [
    "QUES 1"
   ]
  },
  {
   "cell_type": "code",
   "execution_count": 3,
   "id": "1cc26cae-57e2-4413-b42a-ec0011d3c232",
   "metadata": {},
   "outputs": [],
   "source": [
    "sampledict={\n",
    "    'country':{\n",
    "        'indian cricket team':{\n",
    "            'name':['rohit','virat','rahul','shami','bumrah'],\n",
    "            'runs':{\n",
    "                'rohit':47,\n",
    "                'virat':54,\n",
    "                'rahul':66\n",
    "            }\n",
    "        }\n",
    "    }\n",
    "}"
   ]
  },
  {
   "cell_type": "code",
   "execution_count": 113,
   "id": "438d9f02-91a3-48e4-b5b5-aac513e8d079",
   "metadata": {},
   "outputs": [
    {
     "name": "stdout",
     "output_type": "stream",
     "text": [
      "54\n"
     ]
    }
   ],
   "source": [
    "virat_runs = sampledict['country']['indian cricket team']['runs']['virat']\n",
    "print(virat_runs) "
   ]
  },
  {
   "cell_type": "code",
   "execution_count": 98,
   "id": "67f4fdd3-ff50-4eb6-b5e2-407489562af7",
   "metadata": {},
   "outputs": [],
   "source": [
    "value=sampledict.values()"
   ]
  },
  {
   "cell_type": "code",
   "execution_count": 99,
   "id": "aaece13d-3e1d-432b-bc40-0d52161165e2",
   "metadata": {},
   "outputs": [
    {
     "data": {
      "text/plain": [
       "dict_values([{'indian cricket team': {'name': ['rohit', 'virat', 'rahul', 'shami', 'bumrah'], 'runs': {'rohit': 47, 'virat': 54, 'rahul': 66}}}])"
      ]
     },
     "execution_count": 99,
     "metadata": {},
     "output_type": "execute_result"
    }
   ],
   "source": [
    "value"
   ]
  },
  {
   "cell_type": "code",
   "execution_count": 102,
   "id": "acaa6530-c3c9-4b73-b1bc-2ad9edecac61",
   "metadata": {},
   "outputs": [],
   "source": [
    "if 'virat' in value:\n",
    "    print(\"virat : 54\")"
   ]
  },
  {
   "cell_type": "markdown",
   "id": "e393bd02-04d3-45f8-8b7b-c1216cc921ab",
   "metadata": {},
   "source": [
    "QUES 2"
   ]
  },
  {
   "cell_type": "code",
   "execution_count": 26,
   "id": "e92bec9d-bb01-42ea-a053-0ea26d24f30d",
   "metadata": {},
   "outputs": [],
   "source": [
    "sample_dict={'a':100,'b':2800,'c':300}"
   ]
  },
  {
   "cell_type": "code",
   "execution_count": 31,
   "id": "d362523b-c586-446d-9a60-f0386eb1327f",
   "metadata": {},
   "outputs": [],
   "source": [
    "nlist=list(sample_dict.items())"
   ]
  },
  {
   "cell_type": "code",
   "execution_count": 32,
   "id": "deacb915-462c-4a43-8129-bf6b25685cf1",
   "metadata": {},
   "outputs": [
    {
     "name": "stdout",
     "output_type": "stream",
     "text": [
      "no 2800 does not exist in the dict\n"
     ]
    }
   ],
   "source": [
    "if 2800 in nlist:\n",
    "    print('yes it is present')\n",
    "\n",
    "else:\n",
    "    print('no 2800 does not exist in the dict')"
   ]
  },
  {
   "cell_type": "markdown",
   "id": "809c3adc-2e09-44cf-9f06-04fefd218395",
   "metadata": {},
   "source": [
    "QUES 3"
   ]
  },
  {
   "cell_type": "code",
   "execution_count": 33,
   "id": "e08d0b7e-4cac-4434-a1e5-42327e1e1b52",
   "metadata": {},
   "outputs": [],
   "source": [
    "sample_set={'surya','kapil','msd'}\n",
    "sample_list=['sachin','siraj','sehwag']"
   ]
  },
  {
   "cell_type": "code",
   "execution_count": 34,
   "id": "1d58c9b7-f6c6-4c8e-8dcc-c00ee7fdb0f0",
   "metadata": {},
   "outputs": [],
   "source": [
    "sample_set.update(sample_list)"
   ]
  },
  {
   "cell_type": "code",
   "execution_count": 37,
   "id": "66569269-4407-4c80-a856-0461900c6e96",
   "metadata": {},
   "outputs": [
    {
     "data": {
      "text/plain": [
       "{'kapil', 'msd', 'sachin', 'sehwag', 'siraj', 'surya'}"
      ]
     },
     "execution_count": 37,
     "metadata": {},
     "output_type": "execute_result"
    }
   ],
   "source": [
    "sample_set"
   ]
  },
  {
   "cell_type": "markdown",
   "id": "bab56145-9186-4056-97d5-822b295319a1",
   "metadata": {},
   "source": [
    "QUES 4"
   ]
  },
  {
   "cell_type": "code",
   "execution_count": 105,
   "id": "34851c96-e808-4449-8ecf-494e6a16bee0",
   "metadata": {},
   "outputs": [],
   "source": [
    "set1={10,20,30,40,50}\n",
    "set2={30,40,50,60,70}"
   ]
  },
  {
   "cell_type": "code",
   "execution_count": 107,
   "id": "8de57dd4-a85e-4d01-a42e-3a76392318c5",
   "metadata": {},
   "outputs": [
    {
     "name": "stdout",
     "output_type": "stream",
     "text": [
      "50 \n",
      "\n",
      "70 \n",
      "\n",
      "40 \n",
      "\n",
      "60 \n",
      "\n",
      "30 \n",
      "\n"
     ]
    }
   ],
   "source": [
    "for i in set2:\n",
    "    print(i,'\\n')"
   ]
  },
  {
   "cell_type": "code",
   "execution_count": 109,
   "id": "58183b59-77a7-4dec-b23d-849f6a8c8e3f",
   "metadata": {},
   "outputs": [],
   "source": [
    "nset=set()\n",
    "for i in set1:\n",
    "    for j in set2:\n",
    "        if i==j:\n",
    "            nset.add(i)"
   ]
  },
  {
   "cell_type": "code",
   "execution_count": 110,
   "id": "0857c342-a59a-455d-8415-68dd5ec74e18",
   "metadata": {},
   "outputs": [
    {
     "data": {
      "text/plain": [
       "{30, 40, 50}"
      ]
     },
     "execution_count": 110,
     "metadata": {},
     "output_type": "execute_result"
    }
   ],
   "source": [
    "nset"
   ]
  },
  {
   "cell_type": "markdown",
   "id": "f530715f-610c-42ea-9823-a56672871636",
   "metadata": {},
   "source": [
    "QUES 5"
   ]
  },
  {
   "cell_type": "code",
   "execution_count": 43,
   "id": "40dbb192-a75f-4406-b83c-9386168995ab",
   "metadata": {},
   "outputs": [],
   "source": [
    "numbers=[1,2,3,4,5,6,7]"
   ]
  },
  {
   "cell_type": "code",
   "execution_count": 44,
   "id": "d67ca363-ca09-4d08-a77e-6c33b1c5609f",
   "metadata": {},
   "outputs": [],
   "source": [
    "sqrs=[]\n",
    "for i in numbers:\n",
    "    i=i**2\n",
    "    sqrs.append(i)"
   ]
  },
  {
   "cell_type": "code",
   "execution_count": 45,
   "id": "c519961f-be65-4798-bfd7-21c4df22ea0c",
   "metadata": {},
   "outputs": [
    {
     "data": {
      "text/plain": [
       "[1, 4, 9, 16, 25, 36, 49]"
      ]
     },
     "execution_count": 45,
     "metadata": {},
     "output_type": "execute_result"
    }
   ],
   "source": [
    "sqrs"
   ]
  },
  {
   "cell_type": "markdown",
   "id": "66b5bfe5-dc05-4414-bcf7-d75675bef4bd",
   "metadata": {},
   "source": [
    "QUES 6"
   ]
  },
  {
   "cell_type": "code",
   "execution_count": 53,
   "id": "4a4d517a-e3f5-495c-a96e-34ce2aa34dbe",
   "metadata": {},
   "outputs": [],
   "source": [
    "list=[10,20,[300,400,[5000,6000],500],30,40]"
   ]
  },
  {
   "cell_type": "code",
   "execution_count": 55,
   "id": "6d780fbe-155f-4221-ac3a-80233e9b4a25",
   "metadata": {},
   "outputs": [
    {
     "data": {
      "text/plain": [
       "[10, 20, [300, 400, [5000, 6000], 500], 30, 40]"
      ]
     },
     "execution_count": 55,
     "metadata": {},
     "output_type": "execute_result"
    }
   ],
   "source": [
    "list"
   ]
  },
  {
   "cell_type": "code",
   "execution_count": 57,
   "id": "15b92cd0-43e1-48ef-9997-109042ba07b1",
   "metadata": {},
   "outputs": [],
   "source": [
    "lis=list[2][2]"
   ]
  },
  {
   "cell_type": "code",
   "execution_count": 58,
   "id": "ab3b6b73-da42-4c36-a2ef-c7ce75e4d408",
   "metadata": {},
   "outputs": [],
   "source": [
    "lis.append(7000)"
   ]
  },
  {
   "cell_type": "code",
   "execution_count": 59,
   "id": "dfaffd26-5ba2-4b9e-9c49-05fa0f5d4902",
   "metadata": {},
   "outputs": [
    {
     "data": {
      "text/plain": [
       "[10, 20, [300, 400, [5000, 6000, 7000], 500], 30, 40]"
      ]
     },
     "execution_count": 59,
     "metadata": {},
     "output_type": "execute_result"
    }
   ],
   "source": [
    "list"
   ]
  },
  {
   "cell_type": "code",
   "execution_count": null,
   "id": "30c4b162-8bd4-49be-ab3b-4a36df58fed1",
   "metadata": {},
   "outputs": [],
   "source": []
  }
 ],
 "metadata": {
  "kernelspec": {
   "display_name": "Python 3 (ipykernel)",
   "language": "python",
   "name": "python3"
  },
  "language_info": {
   "codemirror_mode": {
    "name": "ipython",
    "version": 3
   },
   "file_extension": ".py",
   "mimetype": "text/x-python",
   "name": "python",
   "nbconvert_exporter": "python",
   "pygments_lexer": "ipython3",
   "version": "3.11.7"
  }
 },
 "nbformat": 4,
 "nbformat_minor": 5
}
